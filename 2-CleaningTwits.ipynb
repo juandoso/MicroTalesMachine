{
 "cells": [
  {
   "cell_type": "markdown",
   "metadata": {},
   "source": [
    "### Script for cleaning and extracting the tale and author from the twits of https://twitter.com/microcuentos"
   ]
  },
  {
   "cell_type": "code",
   "execution_count": 1,
   "metadata": {
    "collapsed": true
   },
   "outputs": [],
   "source": [
    "import pandas as pd"
   ]
  },
  {
   "cell_type": "markdown",
   "metadata": {},
   "source": [
    "Loading tweets saved by the TwitterGrabber script"
   ]
  },
  {
   "cell_type": "code",
   "execution_count": 32,
   "metadata": {
    "collapsed": false
   },
   "outputs": [
    {
     "data": {
      "text/plain": [
       "(2496, 3)"
      ]
     },
     "execution_count": 32,
     "metadata": {},
     "output_type": "execute_result"
    }
   ],
   "source": [
    "twitsRaw = pd.read_csv(\"G:/MicrotalesMachine/microcuentos_tweets1.csv\")\n",
    "twitsRaw.shape"
   ]
  },
  {
   "cell_type": "code",
   "execution_count": 10,
   "metadata": {
    "collapsed": false
   },
   "outputs": [
    {
     "data": {
      "text/html": [
       "<div>\n",
       "<table border=\"1\" class=\"dataframe\">\n",
       "  <thead>\n",
       "    <tr style=\"text-align: right;\">\n",
       "      <th></th>\n",
       "      <th>id</th>\n",
       "      <th>created_at</th>\n",
       "      <th>text</th>\n",
       "    </tr>\n",
       "  </thead>\n",
       "  <tbody>\n",
       "    <tr>\n",
       "      <th>0</th>\n",
       "      <td>733480130794946560</td>\n",
       "      <td>2016-05-20 02:11:05</td>\n",
       "      <td>―¿Parentesco?\\n―Tomamos el mismo tren a diario...</td>\n",
       "    </tr>\n",
       "    <tr>\n",
       "      <th>1</th>\n",
       "      <td>733119882015977474</td>\n",
       "      <td>2016-05-19 02:19:35</td>\n",
       "      <td>Era un lobo diferente, en vez de aullarle a la...</td>\n",
       "    </tr>\n",
       "    <tr>\n",
       "      <th>2</th>\n",
       "      <td>732740463782985728</td>\n",
       "      <td>2016-05-18 01:11:54</td>\n",
       "      <td>El patito feo no le dijo a nadie que lo había ...</td>\n",
       "    </tr>\n",
       "    <tr>\n",
       "      <th>3</th>\n",
       "      <td>732393424133984256</td>\n",
       "      <td>2016-05-17 02:12:54</td>\n",
       "      <td>Le prometió una vida estable y murió de aburri...</td>\n",
       "    </tr>\n",
       "    <tr>\n",
       "      <th>4</th>\n",
       "      <td>731862342611390464</td>\n",
       "      <td>2016-05-15 15:02:34</td>\n",
       "      <td>Tus miedos los acaricio, no les doy de comer n...</td>\n",
       "    </tr>\n",
       "  </tbody>\n",
       "</table>\n",
       "</div>"
      ],
      "text/plain": [
       "                   id           created_at  \\\n",
       "0  733480130794946560  2016-05-20 02:11:05   \n",
       "1  733119882015977474  2016-05-19 02:19:35   \n",
       "2  732740463782985728  2016-05-18 01:11:54   \n",
       "3  732393424133984256  2016-05-17 02:12:54   \n",
       "4  731862342611390464  2016-05-15 15:02:34   \n",
       "\n",
       "                                                text  \n",
       "0  ―¿Parentesco?\\n―Tomamos el mismo tren a diario...  \n",
       "1  Era un lobo diferente, en vez de aullarle a la...  \n",
       "2  El patito feo no le dijo a nadie que lo había ...  \n",
       "3  Le prometió una vida estable y murió de aburri...  \n",
       "4  Tus miedos los acaricio, no les doy de comer n...  "
      ]
     },
     "execution_count": 10,
     "metadata": {},
     "output_type": "execute_result"
    }
   ],
   "source": [
    "twitsRaw.head()"
   ]
  },
  {
   "cell_type": "markdown",
   "metadata": {},
   "source": [
    "Some of the tweets contains @mentions and links. We'll remove them"
   ]
  },
  {
   "cell_type": "code",
   "execution_count": 25,
   "metadata": {
    "collapsed": false
   },
   "outputs": [
    {
     "data": {
      "text/html": [
       "<div>\n",
       "<table border=\"1\" class=\"dataframe\">\n",
       "  <thead>\n",
       "    <tr style=\"text-align: right;\">\n",
       "      <th></th>\n",
       "      <th>id</th>\n",
       "      <th>created_at</th>\n",
       "      <th>text</th>\n",
       "    </tr>\n",
       "  </thead>\n",
       "  <tbody>\n",
       "    <tr>\n",
       "      <th>53</th>\n",
       "      <td>711671323181883392</td>\n",
       "      <td>2016-03-20 21:50:40</td>\n",
       "      <td>@rucodemente https://t.co/R2v54jmt1P</td>\n",
       "    </tr>\n",
       "    <tr>\n",
       "      <th>54</th>\n",
       "      <td>711656399378489344</td>\n",
       "      <td>2016-03-20 20:51:22</td>\n",
       "      <td>Síguenos en @Facebook y entérate de qué van, e...</td>\n",
       "    </tr>\n",
       "  </tbody>\n",
       "</table>\n",
       "</div>"
      ],
      "text/plain": [
       "                    id           created_at  \\\n",
       "53  711671323181883392  2016-03-20 21:50:40   \n",
       "54  711656399378489344  2016-03-20 20:51:22   \n",
       "\n",
       "                                                 text  \n",
       "53               @rucodemente https://t.co/R2v54jmt1P  \n",
       "54  Síguenos en @Facebook y entérate de qué van, e...  "
      ]
     },
     "execution_count": 25,
     "metadata": {},
     "output_type": "execute_result"
    }
   ],
   "source": [
    "twitsRaw.iloc[53:55]"
   ]
  },
  {
   "cell_type": "code",
   "execution_count": 31,
   "metadata": {
    "collapsed": false
   },
   "outputs": [
    {
     "name": "stdout",
     "output_type": "stream",
     "text": [
      "71\n",
      "107\n"
     ]
    }
   ],
   "source": [
    "print(len(twitsRaw[twitsRaw.text.str.contains('http')]))\n",
    "print(len(twitsRaw[twitsRaw.text.str.contains('@')]))"
   ]
  },
  {
   "cell_type": "code",
   "execution_count": 34,
   "metadata": {
    "collapsed": false
   },
   "outputs": [],
   "source": [
    "twitsRaw = twitsRaw[~twitsRaw.text.str.contains('http')]\n",
    "twitsRaw = twitsRaw[~twitsRaw.text.str.contains('@')]"
   ]
  },
  {
   "cell_type": "code",
   "execution_count": 35,
   "metadata": {
    "collapsed": false
   },
   "outputs": [
    {
     "data": {
      "text/plain": [
       "2355"
      ]
     },
     "execution_count": 35,
     "metadata": {},
     "output_type": "execute_result"
    }
   ],
   "source": [
    "len(twitsRaw)"
   ]
  },
  {
   "cell_type": "markdown",
   "metadata": {},
   "source": [
    "The tweets contain a tale and an author (in most cases). The author is usually after the last period, although we can see that we'll need to manually review the results"
   ]
  },
  {
   "cell_type": "code",
   "execution_count": 36,
   "metadata": {
    "collapsed": true
   },
   "outputs": [],
   "source": [
    "twits = pd.DataFrame()"
   ]
  },
  {
   "cell_type": "code",
   "execution_count": 37,
   "metadata": {
    "collapsed": false
   },
   "outputs": [],
   "source": [
    "twits[\"tale\"] = twitsRaw[\"text\"].apply(lambda t: t[:t.rstrip(\".\").rfind(\".\")+1])\n",
    "twits[\"author\"] = twitsRaw[\"text\"].apply(lambda t: t[t.rstrip(\".\").rfind(\".\")+1:])"
   ]
  },
  {
   "cell_type": "code",
   "execution_count": 38,
   "metadata": {
    "collapsed": false
   },
   "outputs": [
    {
     "data": {
      "text/html": [
       "<div>\n",
       "<table border=\"1\" class=\"dataframe\">\n",
       "  <thead>\n",
       "    <tr style=\"text-align: right;\">\n",
       "      <th></th>\n",
       "      <th>tale</th>\n",
       "      <th>author</th>\n",
       "    </tr>\n",
       "  </thead>\n",
       "  <tbody>\n",
       "    <tr>\n",
       "      <th>0</th>\n",
       "      <td>―¿Parentesco?\\n―Tomamos el mismo tren a diario.</td>\n",
       "      <td>\\nGustavo Ruiz C.</td>\n",
       "    </tr>\n",
       "    <tr>\n",
       "      <th>1</th>\n",
       "      <td>Era un lobo diferente, en vez de aullarle a la...</td>\n",
       "      <td>José María Pumarino</td>\n",
       "    </tr>\n",
       "    <tr>\n",
       "      <th>2</th>\n",
       "      <td>El patito feo no le dijo a nadie que lo había ...</td>\n",
       "      <td>\\nJosé Luis Zárate</td>\n",
       "    </tr>\n",
       "    <tr>\n",
       "      <th>3</th>\n",
       "      <td>Le prometió una vida estable y murió de aburri...</td>\n",
       "      <td>\\nInés Torremocha</td>\n",
       "    </tr>\n",
       "    <tr>\n",
       "      <th>4</th>\n",
       "      <td>Tus miedos los acaricio, no les doy de comer n...</td>\n",
       "      <td>\\nCarlos Salem Sola</td>\n",
       "    </tr>\n",
       "    <tr>\n",
       "      <th>5</th>\n",
       "      <td>Tus miedos los acaricio, no les doy de comer n...</td>\n",
       "      <td>\\nPatricia Henríquez</td>\n",
       "    </tr>\n",
       "    <tr>\n",
       "      <th>6</th>\n",
       "      <td>Y la propia princesa dio muerte al dragón para...</td>\n",
       "      <td>\\nAlicia Gómez García.</td>\n",
       "    </tr>\n",
       "    <tr>\n",
       "      <th>7</th>\n",
       "      <td></td>\n",
       "      <td>—¿Me olvidarás?\\n—Todos los días\\nAntonino De ...</td>\n",
       "    </tr>\n",
       "    <tr>\n",
       "      <th>8</th>\n",
       "      <td>Y ambos llegaron puntuales a la cita sin darse...</td>\n",
       "      <td>Ruiz.</td>\n",
       "    </tr>\n",
       "    <tr>\n",
       "      <th>9</th>\n",
       "      <td>- ¿ Y tú a qué le temes ? le preguntó\\n- A con...</td>\n",
       "      <td>Le contestó\\nJosé David Uzcátegui</td>\n",
       "    </tr>\n",
       "  </tbody>\n",
       "</table>\n",
       "</div>"
      ],
      "text/plain": [
       "                                                tale  \\\n",
       "0    ―¿Parentesco?\\n―Tomamos el mismo tren a diario.   \n",
       "1  Era un lobo diferente, en vez de aullarle a la...   \n",
       "2  El patito feo no le dijo a nadie que lo había ...   \n",
       "3  Le prometió una vida estable y murió de aburri...   \n",
       "4  Tus miedos los acaricio, no les doy de comer n...   \n",
       "5  Tus miedos los acaricio, no les doy de comer n...   \n",
       "6  Y la propia princesa dio muerte al dragón para...   \n",
       "7                                                      \n",
       "8  Y ambos llegaron puntuales a la cita sin darse...   \n",
       "9  - ¿ Y tú a qué le temes ? le preguntó\\n- A con...   \n",
       "\n",
       "                                              author  \n",
       "0                                  \\nGustavo Ruiz C.  \n",
       "1                                José María Pumarino  \n",
       "2                                 \\nJosé Luis Zárate  \n",
       "3                                  \\nInés Torremocha  \n",
       "4                                \\nCarlos Salem Sola  \n",
       "5                               \\nPatricia Henríquez  \n",
       "6                             \\nAlicia Gómez García.  \n",
       "7  —¿Me olvidarás?\\n—Todos los días\\nAntonino De ...  \n",
       "8                                              Ruiz.  \n",
       "9                  Le contestó\\nJosé David Uzcátegui  "
      ]
     },
     "execution_count": 38,
     "metadata": {},
     "output_type": "execute_result"
    }
   ],
   "source": [
    "twits.head(10)"
   ]
  },
  {
   "cell_type": "markdown",
   "metadata": {},
   "source": [
    "Let's check the tales' length distribution"
   ]
  },
  {
   "cell_type": "code",
   "execution_count": 46,
   "metadata": {
    "collapsed": false
   },
   "outputs": [
    {
     "data": {
      "text/plain": [
       "75.60297239915074"
      ]
     },
     "execution_count": 46,
     "metadata": {},
     "output_type": "execute_result"
    }
   ],
   "source": [
    "twits[\"lenght\"] = twits['tale'].apply(lambda s: len(s))\n",
    "twits[\"lenght\"].mean()"
   ]
  },
  {
   "cell_type": "code",
   "execution_count": 41,
   "metadata": {
    "collapsed": false
   },
   "outputs": [
    {
     "data": {
      "text/plain": [
       "<matplotlib.axes._subplots.AxesSubplot at 0x210f4797c18>"
      ]
     },
     "execution_count": 41,
     "metadata": {},
     "output_type": "execute_result"
    },
    {
     "data": {
      "image/png": "[encoded data removed]",
      "text/plain": [
       "<matplotlib.figure.Figure at 0x210f3e4ce80>"
      ]
     },
     "metadata": {},
     "output_type": "display_data"
    }
   ],
   "source": [
    "%matplotlib inline\n",
    "twits[\"lenght\"].hist()"
   ]
  },
  {
   "cell_type": "markdown",
   "metadata": {},
   "source": [
    "20 characters is probably not enough to write a tale, no matter how 'micro', so this is likely symptomatic of a problem"
   ]
  },
  {
   "cell_type": "code",
   "execution_count": 56,
   "metadata": {
    "collapsed": false
   },
   "outputs": [
    {
     "data": {
      "text/html": [
       "<div>\n",
       "<table border=\"1\" class=\"dataframe\">\n",
       "  <thead>\n",
       "    <tr style=\"text-align: right;\">\n",
       "      <th></th>\n",
       "      <th>tale</th>\n",
       "      <th>author</th>\n",
       "      <th>lenght</th>\n",
       "    </tr>\n",
       "  </thead>\n",
       "  <tbody>\n",
       "    <tr>\n",
       "      <th>7</th>\n",
       "      <td></td>\n",
       "      <td>—¿Me olvidarás?\\n—Todos los días\\nAntonino De ...</td>\n",
       "      <td>0</td>\n",
       "    </tr>\n",
       "    <tr>\n",
       "      <th>140</th>\n",
       "      <td></td>\n",
       "      <td>¿Te apuntarías en un Taller de Microficción On...</td>\n",
       "      <td>0</td>\n",
       "    </tr>\n",
       "    <tr>\n",
       "      <th>164</th>\n",
       "      <td></td>\n",
       "      <td>¿Quién no amaneció alguna vez varias veces en ...</td>\n",
       "      <td>0</td>\n",
       "    </tr>\n",
       "    <tr>\n",
       "      <th>165</th>\n",
       "      <td></td>\n",
       "      <td>Él tuiteaba y se preguntaba, ¿lo habrá leído?\\...</td>\n",
       "      <td>0</td>\n",
       "    </tr>\n",
       "    <tr>\n",
       "      <th>267</th>\n",
       "      <td></td>\n",
       "      <td>Nada tan triste como mi súplica\\nTan mediocre ...</td>\n",
       "      <td>0</td>\n",
       "    </tr>\n",
       "  </tbody>\n",
       "</table>\n",
       "</div>"
      ],
      "text/plain": [
       "    tale                                             author  lenght\n",
       "7         —¿Me olvidarás?\\n—Todos los días\\nAntonino De ...       0\n",
       "140       ¿Te apuntarías en un Taller de Microficción On...       0\n",
       "164       ¿Quién no amaneció alguna vez varias veces en ...       0\n",
       "165       Él tuiteaba y se preguntaba, ¿lo habrá leído?\\...       0\n",
       "267       Nada tan triste como mi súplica\\nTan mediocre ...       0"
      ]
     },
     "execution_count": 56,
     "metadata": {},
     "output_type": "execute_result"
    }
   ],
   "source": [
    "twits[twits.lenght < 20].head()"
   ]
  },
  {
   "cell_type": "markdown",
   "metadata": {
    "collapsed": true
   },
   "source": [
    "Here the problem is that the assumption of having a period separating the tale from the author is no always right. We could remove the problematic tweets or fix them manually. I actually opted for the later option, but I'll just ignore them for the rest of this notebook"
   ]
  },
  {
   "cell_type": "code",
   "execution_count": 57,
   "metadata": {
    "collapsed": false
   },
   "outputs": [],
   "source": [
    "twits = twits[twits.lenght > 20]"
   ]
  },
  {
   "cell_type": "markdown",
   "metadata": {},
   "source": [
    "Now we'll check the authors distribution"
   ]
  },
  {
   "cell_type": "code",
   "execution_count": 61,
   "metadata": {
    "collapsed": false
   },
   "outputs": [
    {
     "data": {
      "text/plain": [
       "<matplotlib.axes._subplots.AxesSubplot at 0x210f5c0ebe0>"
      ]
     },
     "execution_count": 61,
     "metadata": {},
     "output_type": "execute_result"
    },
    {
     "data": {
      "image/png": "[encoded data removed]",
      "text/plain": [
       "<matplotlib.figure.Figure at 0x210f5c7c748>"
      ]
     },
     "metadata": {},
     "output_type": "display_data"
    }
   ],
   "source": [
    "twits.author.value_counts().hist()"
   ]
  },
  {
   "cell_type": "markdown",
   "metadata": {},
   "source": [
    "Most of the authors have contributed (or were selected with) only one tale, but some are much more prolific:"
   ]
  },
  {
   "cell_type": "code",
   "execution_count": 62,
   "metadata": {
    "collapsed": false
   },
   "outputs": [
    {
     "data": {
      "text/plain": [
       " Lenin Pérez Pérez    45\n",
       " Mónica Carrillo      38\n",
       " Juan Luis            36\n",
       " José Luis Zárate     31\n",
       " Livia Hernández      17\n",
       "Name: author, dtype: int64"
      ]
     },
     "execution_count": 62,
     "metadata": {},
     "output_type": "execute_result"
    }
   ],
   "source": [
    "twits.author.value_counts().head()"
   ]
  },
  {
   "cell_type": "markdown",
   "metadata": {},
   "source": [
    "We'll save the authors information for attribution"
   ]
  },
  {
   "cell_type": "code",
   "execution_count": 64,
   "metadata": {
    "collapsed": false
   },
   "outputs": [],
   "source": [
    "twits.author.value_counts().to_csv(\"G:/MicrotalesMachine/authors.txt\", index=True, header=False, encoding='utf-8')"
   ]
  },
  {
   "cell_type": "markdown",
   "metadata": {},
   "source": [
    "Finally, we'll save the tales as a text file with one row for tale. We'll add a '#' as line terminator because some of the tweets contain end of line characters"
   ]
  },
  {
   "cell_type": "code",
   "execution_count": 4,
   "metadata": {
    "collapsed": true
   },
   "outputs": [],
   "source": [
    "twits[['tale']].to_csv(\"F:/MicrotalesMachine/tweets.txt\", index=False, header=False, encoding='utf-8', line_terminator='#\\n')"
   ]
  }
 ],
 "metadata": {
  "anaconda-cloud": {},
  "kernelspec": {
   "display_name": "Python [conda root]",
   "language": "python",
   "name": "conda-root-py"
  },
  "language_info": {
   "codemirror_mode": {
    "name": "ipython",
    "version": 3
   },
   "file_extension": ".py",
   "mimetype": "text/x-python",
   "name": "python",
   "nbconvert_exporter": "python",
   "pygments_lexer": "ipython3",
   "version": "3.5.2"
  }
 },
 "nbformat": 4,
 "nbformat_minor": 0
}
